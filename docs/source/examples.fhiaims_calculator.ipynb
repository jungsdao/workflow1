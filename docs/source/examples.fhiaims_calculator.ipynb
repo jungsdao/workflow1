{
 "cells": [
  {
   "cell_type": "markdown",
   "id": "559a6dcc-51ec-4612-88d5-7b99f35ac567",
   "metadata": {},
   "source": [
    "# FHI-Aims Calculator\n",
    "\n",
    "This example illustrates the usage of Workflow for efficiently performing density-functioncal theory (DFT) calculations with the all-electron electronic structure code [FHI-Aims](https://fhi-aims.org/).\n",
    "\n",
    "At first, we initialize a `ConfigSet` with a couple of (periodic and non-periodic) systems stored in `Input_Structures.xyz`.\n",
    "We also define an `OutputSpec` to handle the output that will additionally comprise values calculated by FHI-Aims.\n",
    "\n",
    "Next, we define various parameter that will be used during the calculations.\n",
    "Most of them define parameter settings for the DFT calculation (that will be written in the `control.in` input file of FHI-Aims).\n",
    "Note that for non-periodic systems the calculations will be performed with the exact same settings, but without parameter specific to periodic systems (e.g. `k_grid`, `compute_analytical_stress`, etc.).\n",
    "\n",
    "With these parameters and Workflow's `Aims` Calculator object, we define a `calculator` tuple of the form ` (calc_constructor, args, kwargs)`.\n",
    "Finally, we apply the `generic.calculate()` function to process all the input structures in parallel (defined via the `autopara_info` settings). The values of the calculated `properties` will be written into `Output_Structures.xyz` with keys that have the specified `output_prefix`. Note that for non-periodic systems the property \"stress\" will be ignored."
   ]
  },
  {
   "cell_type": "code",
   "execution_count": null,
   "id": "30a014ec-572b-481d-848e-f3ba0fea0564",
   "metadata": {},
   "outputs": [],
   "source": [
    "import pathlib\n",
    "\n",
    "import wfl\n",
    "from wfl.calculators.aims import Aims\n",
    "from wfl.calculators import generic\n",
    "from wfl.autoparallelize import AutoparaInfo\n",
    "from wfl.configset import ConfigSet, OutputSpec\n",
    "\n",
    "\n",
    "workdir = pathlib.Path(wfl.__file__).parents[1]/\"docs/source/examples_files/fhiaims_calculator\"\n",
    "inputs = ConfigSet(workdir/'./Input_Structures.xyz')\n",
    "outputs = OutputSpec('Output_Structures.xyz')\n",
    "\n",
    "aims_kwargs = {\n",
    "        'xc':                        'pbe',\n",
    "        'spin':                      'none',\n",
    "        'relativistic':              'none',\n",
    "        'charge':                    0.,\n",
    "        'sc_iter_limit':             500,\n",
    "        'occupation_type':           'gaussian 0.01',\n",
    "        'charge_mix_param':          0.6,\n",
    "        'mixer':                     'pulay',\n",
    "        'n_max_pulay':               10,\n",
    "        'sc_accuracy_rho':           1e-2,\n",
    "        'sc_accuracy_eev':           1e-2,\n",
    "        'sc_accuracy_etot':          1e-4,\n",
    "        'sc_accuracy_forces':        1e-2,\n",
    "        'sc_accuracy_stress':        1e-1,\n",
    "        'compute_forces':            True,\n",
    "        'compute_analytical_stress': True,\n",
    "        'KS_method':                 'parallel',\n",
    "        'k_grid_density':            1e-1,\n",
    "        }\n",
    "\n",
    "\n",
    "calculator = (Aims, [], aims_kwargs)\n",
    "\n",
    "\n",
    "generic.calculate(\n",
    "    inputs = inputs,\n",
    "    outputs = outputs,\n",
    "    calculator = calculator,\n",
    "    properties = [\"energy\", \"forces\", \"stress\"],\n",
    "    output_prefix = \"FHIaims_\",\n",
    "    autopara_info = AutoparaInfo(\n",
    "        num_python_subprocesses = 4,\n",
    "        num_inputs_per_python_subprocess=1\n",
    "    )\n",
    ")"
   ]
  },
  {
   "cell_type": "markdown",
   "id": "8ec7a593-9b4f-41cc-a5f9-208440978742",
   "metadata": {},
   "source": [
    "As of ASE version 3.23, the file-based calculators rely on a configuration file that specifies the information about the particular installation of the electronic structure code ([see ASE's docummentation](https://wiki.fysik.dtu.dk/ase/ase/calculators/calculators.html#calculator-configuration)). \n",
    "\n",
    "An example `~/.config/ase/config.ini`:\n",
    "\n",
    "```\n",
    "[aims]\n",
    "command=mpirun -n 32 path/to/aims/aims.231208.scalapack.mpi.x\n",
    "default_species_directory=path/to/aims/species_defaults/defaults_2020/light/\n",
    "```\n",
    "\n",
    "Alternatively, the species directory maybe included among the keyword arguments:\n",
    "\n",
    "```\n",
    "aims_kwargs[\"species_dir\"] = \"path/to/aims/species_defaults/defaults_2020/light/\"\n",
    "```\n",
    "\n",
    "Instead of the command in ase's config file, a `profile` may be provided among the keyword arguments:\n",
    "\n",
    "```\n",
    "from ase.calculators.aims import AimsProfile\n",
    "aims_kwargs[\"profile\"] = AimsProfile(\"mpirun -n 32 path/to/aims/aims.231208.scalapack.mpi.x\")\n",
    "```"
   ]
  },
  {
   "cell_type": "code",
   "execution_count": null,
   "id": "3b2ea6aa-299e-4834-b6cf-a3718462b0a4",
   "metadata": {
    "nbsphinx": "hidden"
   },
   "outputs": [],
   "source": [
    "import os\n",
    "import ase.io\n",
    "\n",
    "\n",
    "assert os.path.exists(outputs.files[0]), f'{outputs.files[0]} not found!'\n",
    "outputs_atoms = ase.io.read(outputs.files[0], ':')\n",
    "assert len(list(outputs_atoms)) == len(list(inputs))\n",
    "for atoms_i in outputs_atoms:\n",
    "    assert not atoms_i.info.get('DFT_FAILED_AIMS', False), f'Calculation with ID_mol={atoms_i.info[\"ID_mol\"]} failed.'\n"
   ]
  }
 ],
 "metadata": {
  "kernelspec": {
   "display_name": "Python 3",
   "language": "python",
   "name": "python3"
  },
  "language_info": {
   "codemirror_mode": {
    "name": "ipython",
    "version": 3
   },
   "file_extension": ".py",
   "mimetype": "text/x-python",
   "name": "python",
   "nbconvert_exporter": "python",
   "pygments_lexer": "ipython3",
   "version": "3.8.19"
  }
 },
 "nbformat": 4,
 "nbformat_minor": 5
}
